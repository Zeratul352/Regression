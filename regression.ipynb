{
 "cells":[
  {
   "cell_type":"markdown",
   "source":[
    "# Sheet"
   ],
   "attachments":{
    
   },
   "metadata":{
    "datalore":{
     "type":"MD",
     "hide_input_from_viewers":false,
     "hide_output_from_viewers":false,
     "sheet_delimiter":true
    }
   }
  },
  {
   "cell_type":"code",
   "source":[
    "import numpy as np\n",
    "import pandas as pd\n",
    "import matplotlib.pyplot as plt\n",
    "from sklearn.linear_model import LinearRegression\n",
    "from sklearn.metrics import r2_score"
   ],
   "execution_count":8,
   "outputs":[
    
   ],
   "metadata":{
    "datalore":{
     "type":"CODE",
     "hide_input_from_viewers":false,
     "hide_output_from_viewers":false
    }
   }
  },
  {
   "cell_type":"code",
   "source":[
    "# read data\n",
    "path_to_datafile = \"Concrete_Data.xls\"\n",
    "df = pd.read_excel(path_to_datafile)\n",
    "# df[\"ds\"] = pd.to_datetime(df[\"ds\"])\n",
    "# df.set_index(\"ds\", inplace=True)\n",
    "df.rename(columns={\"Cement (component 1)(kg in a m^3 mixture)\": \"component1\",\n",
    "                   \"Blast Furnace Slag (component 2)(kg in a m^3 mixture)\": \"component2\",\n",
    "                   \"Fly Ash (component 3)(kg in a m^3 mixture)\": \"component3\",\n",
    "                   \"Water  (component 4)(kg in a m^3 mixture)\": \"component4\",\n",
    "                   \"Superplasticizer (component 5)(kg in a m^3 mixture)\": \"component5\",\n",
    "                   \"Coarse Aggregate  (component 6)(kg in a m^3 mixture)\": \"component6\",\n",
    "                   \"Fine Aggregate (component 7)(kg in a m^3 mixture)\": \"component7\",\n",
    "                   \"Age (day)\": \"age\",\n",
    "                   \"Concrete compressive strength(MPa, megapascals) \": \"y\", }, inplace=True)\n",
    "\n",
    "print(df.head())"
   ],
   "execution_count":12,
   "outputs":[
    {
     "name":"stdout",
     "text":[
      "   component1  component2  component3  component4  component5  component6  \\\n",
      "0       540.0         0.0         0.0       162.0         2.5      1040.0   \n",
      "1       540.0         0.0         0.0       162.0         2.5      1055.0   \n",
      "2       332.5       142.5         0.0       228.0         0.0       932.0   \n",
      "3       332.5       142.5         0.0       228.0         0.0       932.0   \n",
      "4       198.6       132.4         0.0       192.0         0.0       978.4   \n",
      "\n",
      "   component7  age          y  \n",
      "0       676.0   28  79.986111  \n",
      "1       676.0   28  61.887366  \n",
      "2       594.0  270  40.269535  \n",
      "3       594.0  365  41.052780  \n",
      "4       825.5  360  44.296075  \n"
     ],
     "output_type":"stream"
    }
   ],
   "metadata":{
    "datalore":{
     "type":"CODE",
     "hide_input_from_viewers":false,
     "hide_output_from_viewers":false
    }
   }
  },
  {
   "cell_type":"code",
   "source":[
    "# normalization\n",
    "df_norm = df.copy(deep=True)\n",
    "df_norm[\"component1\"] = [(x - min(df_norm[\"component1\"])) \/ (max(df_norm[\"component1\"]) - min(df_norm[\"component1\"]))\n",
    "                         for x in df_norm[\"component1\"]]\n",
    "df_norm[\"component2\"] = [(x - min(df_norm[\"component2\"])) \/ (max(df_norm[\"component2\"]) - min(df_norm[\"component2\"]))\n",
    "                         for x in df_norm[\"component2\"]]\n",
    "\n",
    "df_norm[\"component3\"] = [(x - min(df_norm[\"component3\"])) \/ (max(df_norm[\"component3\"]) - min(df_norm[\"component3\"]))\n",
    "                         for x in df_norm[\"component3\"]]\n",
    "\n",
    "df_norm[\"component4\"] = [(x - min(df_norm[\"component4\"])) \/ (max(df_norm[\"component4\"]) - min(df_norm[\"component4\"]))\n",
    "                         for x in df_norm[\"component4\"]]\n",
    "\n",
    "df_norm[\"component5\"] = [(x - min(df_norm[\"component5\"])) \/ (max(df_norm[\"component5\"]) - min(df_norm[\"component5\"]))\n",
    "                         for x in df_norm[\"component5\"]]\n",
    "\n",
    "df_norm[\"component6\"] = [(x - min(df_norm[\"component6\"])) \/ (max(df_norm[\"component6\"]) - min(df_norm[\"component6\"]))\n",
    "                         for x in df_norm[\"component6\"]]\n",
    "\n",
    "df_norm[\"component7\"] = [(x - min(df_norm[\"component7\"])) \/ (max(df_norm[\"component7\"]) - min(df_norm[\"component7\"]))\n",
    "                         for x in df_norm[\"component7\"]]\n",
    "\n",
    "df_norm[\"age\"] = [(x - min(df_norm[\"age\"])) \/ (max(df_norm[\"age\"]) - min(df_norm[\"age\"]))\n",
    "                  for x in df_norm[\"age\"]]\n",
    "\n",
    "df_norm[\"y\"] = [(x - min(df_norm[\"y\"])) \/ (max(df_norm[\"y\"]) - min(df_norm[\"y\"]))\n",
    "                  for x in df_norm[\"y\"]]\n",
    "\n",
    "\n"
   ],
   "execution_count":124,
   "outputs":[
    
   ],
   "metadata":{
    "datalore":{
     "type":"CODE",
     "hide_input_from_viewers":false,
     "hide_output_from_viewers":false
    }
   }
  },
  {
   "cell_type":"code",
   "source":[
    "del df_norm['y']\n",
    "del df_norm['y_lasso']\n",
    "del df_norm['component6']\n",
    "del df_norm['component7']\n",
    "# df_norm_full = df_norm.copy(deep=False)\n",
    "# del df_norm['component6']\n",
    "# del df_norm['component7']\n",
    "\n",
    "# del df_norm_full['y_lasso']\n",
    "# del df_norm_full['y']\n",
    "df_norm.head()\n",
    "# df_norm_full.head()\n",
    "# print('covariance matrix')\n",
    "# pd.set_option('display.max_columns', None)\n",
    "# a = df_norm.cov()\n",
    "# print(a)\n",
    "# print(np.linalg.cond(a))"
   ],
   "execution_count":136,
   "outputs":[
    {
     "data":{
      "text\/html":[
       "<div>\n",
       "<style scoped>\n",
       "    .dataframe tbody tr th:only-of-type {\n",
       "        vertical-align: middle;\n",
       "    }\n",
       "\n",
       "    .dataframe tbody tr th {\n",
       "        vertical-align: top;\n",
       "    }\n",
       "\n",
       "    .dataframe thead th {\n",
       "        text-align: right;\n",
       "    }\n",
       "<\/style>\n",
       "<table border=\"1\" class=\"dataframe\">\n",
       "  <thead>\n",
       "    <tr style=\"text-align: right;\">\n",
       "      <th><\/th>\n",
       "      <th>component1<\/th>\n",
       "      <th>component2<\/th>\n",
       "      <th>component3<\/th>\n",
       "      <th>component4<\/th>\n",
       "      <th>component5<\/th>\n",
       "      <th>age<\/th>\n",
       "    <\/tr>\n",
       "  <\/thead>\n",
       "  <tbody>\n",
       "    <tr>\n",
       "      <th>0<\/th>\n",
       "      <td>1.000000<\/td>\n",
       "      <td>0.000000<\/td>\n",
       "      <td>0.0<\/td>\n",
       "      <td>0.321357<\/td>\n",
       "      <td>0.07764<\/td>\n",
       "      <td>0.074176<\/td>\n",
       "    <\/tr>\n",
       "    <tr>\n",
       "      <th>1<\/th>\n",
       "      <td>1.000000<\/td>\n",
       "      <td>0.000000<\/td>\n",
       "      <td>0.0<\/td>\n",
       "      <td>0.321357<\/td>\n",
       "      <td>0.07764<\/td>\n",
       "      <td>0.074176<\/td>\n",
       "    <\/tr>\n",
       "    <tr>\n",
       "      <th>2<\/th>\n",
       "      <td>0.526256<\/td>\n",
       "      <td>0.396494<\/td>\n",
       "      <td>0.0<\/td>\n",
       "      <td>0.848303<\/td>\n",
       "      <td>0.00000<\/td>\n",
       "      <td>0.739011<\/td>\n",
       "    <\/tr>\n",
       "    <tr>\n",
       "      <th>3<\/th>\n",
       "      <td>0.526256<\/td>\n",
       "      <td>0.396494<\/td>\n",
       "      <td>0.0<\/td>\n",
       "      <td>0.848303<\/td>\n",
       "      <td>0.00000<\/td>\n",
       "      <td>1.000000<\/td>\n",
       "    <\/tr>\n",
       "    <tr>\n",
       "      <th>4<\/th>\n",
       "      <td>0.220548<\/td>\n",
       "      <td>0.368392<\/td>\n",
       "      <td>0.0<\/td>\n",
       "      <td>0.560878<\/td>\n",
       "      <td>0.00000<\/td>\n",
       "      <td>0.986264<\/td>\n",
       "    <\/tr>\n",
       "  <\/tbody>\n",
       "<\/table>\n",
       "<\/div>"
      ]
     },
     "metadata":{
      
     },
     "output_type":"display_data"
    }
   ],
   "metadata":{
    "datalore":{
     "type":"CODE",
     "hide_input_from_viewers":false,
     "hide_output_from_viewers":false
    }
   }
  },
  {
   "cell_type":"code",
   "source":[
    "from sklearn.feature_selection import mutual_info_regression\n",
    "# y = df_norm['y']\n",
    "# del df_norm['y']\n",
    "# for i in range(7):\n",
    "mutual_info = mutual_info_regression(df_norm, df_norm['component7'])\n",
    "mutual_info \/= np.max(mutual_info)\n",
    "print(mutual_info)\n",
    "# mutual_info = pd.Series(mutual_info)\n",
    "# mutual_info.index = df_norm.columns\n",
    "# mutual_info.sort_values(ascending=False)\n",
    "# mutual_info.sort_values(ascending=False).plot.bar(figsize=(15,5))\n",
    "\n",
    "\n",
    "\n",
    "\n",
    "# 1 with (4), 6, 7\n",
    "# 2 with 1, (4), 6,7\n",
    "#3 with 1, 5, 6, 7\n",
    "#4 with 1, 6, 7"
   ],
   "execution_count":35,
   "outputs":[
    {
     "name":"stdout",
     "text":[
      "[0.67858947 0.41252224 0.35066334 0.59802786 0.46751505 0.70072297\n",
      " 1.         0.03561641]\n"
     ],
     "output_type":"stream"
    }
   ],
   "metadata":{
    "datalore":{
     "type":"CODE",
     "hide_input_from_viewers":false,
     "hide_output_from_viewers":false
    }
   }
  },
  {
   "cell_type":"code",
   "source":[
    "# y = df_norm['y']\n",
    "# del df_norm['y']\n",
    "# df_norm.head()\n",
    "y"
   ],
   "execution_count":117,
   "outputs":[
    {
     "data":{
      "text\/html":[
       
      ]
     },
     "metadata":{
      
     },
     "output_type":"display_data"
    }
   ],
   "metadata":{
    "datalore":{
     "type":"CODE",
     "hide_input_from_viewers":false,
     "hide_output_from_viewers":false
    }
   }
  },
  {
   "cell_type":"code",
   "source":[
    "del df_norm['y']\n",
    "# del df_norm['component3']\n",
    "# del df_norm['component6']\n",
    "# del df_norm['component7']\n",
    "\n",
    "df_norm.head()"
   ],
   "execution_count":95,
   "outputs":[
    {
     "data":{
      "text\/html":[
       "<div>\n",
       "<style scoped>\n",
       "    .dataframe tbody tr th:only-of-type {\n",
       "        vertical-align: middle;\n",
       "    }\n",
       "\n",
       "    .dataframe tbody tr th {\n",
       "        vertical-align: top;\n",
       "    }\n",
       "\n",
       "    .dataframe thead th {\n",
       "        text-align: right;\n",
       "    }\n",
       "<\/style>\n",
       "<table border=\"1\" class=\"dataframe\">\n",
       "  <thead>\n",
       "    <tr style=\"text-align: right;\">\n",
       "      <th><\/th>\n",
       "      <th>component1<\/th>\n",
       "      <th>component2<\/th>\n",
       "      <th>component3<\/th>\n",
       "      <th>component4<\/th>\n",
       "      <th>component5<\/th>\n",
       "      <th>age<\/th>\n",
       "    <\/tr>\n",
       "  <\/thead>\n",
       "  <tbody>\n",
       "    <tr>\n",
       "      <th>0<\/th>\n",
       "      <td>1.000000<\/td>\n",
       "      <td>0.000000<\/td>\n",
       "      <td>0.0<\/td>\n",
       "      <td>0.321357<\/td>\n",
       "      <td>0.07764<\/td>\n",
       "      <td>0.074176<\/td>\n",
       "    <\/tr>\n",
       "    <tr>\n",
       "      <th>1<\/th>\n",
       "      <td>1.000000<\/td>\n",
       "      <td>0.000000<\/td>\n",
       "      <td>0.0<\/td>\n",
       "      <td>0.321357<\/td>\n",
       "      <td>0.07764<\/td>\n",
       "      <td>0.074176<\/td>\n",
       "    <\/tr>\n",
       "    <tr>\n",
       "      <th>2<\/th>\n",
       "      <td>0.526256<\/td>\n",
       "      <td>0.396494<\/td>\n",
       "      <td>0.0<\/td>\n",
       "      <td>0.848303<\/td>\n",
       "      <td>0.00000<\/td>\n",
       "      <td>0.739011<\/td>\n",
       "    <\/tr>\n",
       "    <tr>\n",
       "      <th>3<\/th>\n",
       "      <td>0.526256<\/td>\n",
       "      <td>0.396494<\/td>\n",
       "      <td>0.0<\/td>\n",
       "      <td>0.848303<\/td>\n",
       "      <td>0.00000<\/td>\n",
       "      <td>1.000000<\/td>\n",
       "    <\/tr>\n",
       "    <tr>\n",
       "      <th>4<\/th>\n",
       "      <td>0.220548<\/td>\n",
       "      <td>0.368392<\/td>\n",
       "      <td>0.0<\/td>\n",
       "      <td>0.560878<\/td>\n",
       "      <td>0.00000<\/td>\n",
       "      <td>0.986264<\/td>\n",
       "    <\/tr>\n",
       "  <\/tbody>\n",
       "<\/table>\n",
       "<\/div>"
      ]
     },
     "metadata":{
      
     },
     "output_type":"display_data"
    }
   ],
   "metadata":{
    "datalore":{
     "type":"CODE",
     "hide_input_from_viewers":false,
     "hide_output_from_viewers":false
    }
   }
  },
  {
   "cell_type":"code",
   "source":[
    "# print('covariance matrix')\n",
    "# pd.set_option('display.max_columns', None)\n",
    "a = df_norm.cov()\n",
    "print(a)\n",
    "print(np.linalg.cond(a))"
   ],
   "execution_count":39,
   "outputs":[
    {
     "name":"stdout",
     "text":[
      "            component1  component2  component3  component4  component5  \\\n",
      "component1    0.056930   -0.015763   -0.030331   -0.003317    0.004106   \n",
      "component2   -0.015763    0.057631   -0.024843    0.004391    0.001932   \n",
      "component3   -0.030331   -0.024843    0.102286   -0.014017    0.022388   \n",
      "component4   -0.003317    0.004391   -0.014017    0.029071   -0.020796   \n",
      "component5    0.004106    0.001932    0.022388   -0.020796    0.034415   \n",
      "age           0.003393   -0.001843   -0.008568    0.008214   -0.006204   \n",
      "\n",
      "                 age  \n",
      "component1  0.003393  \n",
      "component2 -0.001843  \n",
      "component3 -0.008568  \n",
      "component4  0.008214  \n",
      "component5 -0.006204  \n",
      "age         0.030117  \n",
      "16.472469155197548\n"
     ],
     "output_type":"stream"
    }
   ],
   "metadata":{
    "datalore":{
     "type":"CODE",
     "hide_input_from_viewers":false,
     "hide_output_from_viewers":false
    }
   }
  },
  {
   "cell_type":"code",
   "source":[
    "# ols regression\n",
    "\n",
    "# y = df_norm['y']\n",
    "# del df_norm['y']\n",
    "\n",
    "reg = LinearRegression().fit(df_norm, y)\n",
    "reg.score(df_norm, y) #0.584210959834182\n",
    "ols_coef = reg.coef_\n",
    "ols_coef\n"
   ],
   "execution_count":64,
   "outputs":[
    {
     "data":{
      "text\/html":[
       
      ]
     },
     "metadata":{
      
     },
     "output_type":"display_data"
    }
   ],
   "metadata":{
    "datalore":{
     "type":"CODE",
     "hide_input_from_viewers":false,
     "hide_output_from_viewers":false
    }
   }
  },
  {
   "cell_type":"code",
   "source":[
    "def compare(coef, y):\n",
    "    y_pred = []\n",
    "    for i in range(1030):\n",
    "        y_pred.append(coef[0] * df_norm['component1'][i] + coef[1] * df_norm['component2'][i] +\n",
    "                      coef[2] * df_norm['component3'][i] + coef[3] * df_norm['component4'][i] + \n",
    "                      coef[4] *df_norm['component5'][i] + coef[5] * df_norm['age'][i])\n",
    "    return y_pred"
   ],
   "execution_count":96,
   "outputs":[
    
   ],
   "metadata":{
    "datalore":{
     "type":"CODE",
     "hide_input_from_viewers":false,
     "hide_output_from_viewers":false
    }
   }
  },
  {
   "cell_type":"code",
   "source":[
    "y"
   ],
   "execution_count":72,
   "outputs":[
    {
     "data":{
      "text\/html":[
       
      ]
     },
     "metadata":{
      
     },
     "output_type":"display_data"
    }
   ],
   "metadata":{
    "datalore":{
     "type":"CODE",
     "hide_input_from_viewers":false,
     "hide_output_from_viewers":false
    }
   }
  },
  {
   "cell_type":"code",
   "source":[
    "from sklearn.metrics import mean_squared_error, mean_absolute_error\n",
    "\n",
    "y_ols = compare(ols_coef, y)\n",
    "\n",
    "plt.plot(np.arange(1030), y)\n",
    "plt.plot(np.arange(1030), y_ols)\n",
    "# plt.title('стационарный временной ряд АР(2)')\n",
    "plt.show()\n",
    "\n",
    "print(r2_score(y, y_ols), mean_squared_error(y, y_ols, squared=False),\n",
    "      mean_absolute_error(y, y_ols))\n",
    "\n",
    "df['y_ols'] = y_ols\n",
    "df['y_ols']"
   ],
   "execution_count":74,
   "outputs":[
    {
     "name":"stdout",
     "text":[
      "0.18089892353345627 0.18827067194730723 0.15890164292587483\n"
     ],
     "output_type":"stream"
    },
    {
     "data":{
      "image\/png":"[encoded data removed]",
      "text\/html":[
       
      ]
     },
     "metadata":{
      "image\/png":{
       
      }
     },
     "output_type":"display_data"
    }
   ],
   "metadata":{
    "datalore":{
     "type":"CODE",
     "hide_input_from_viewers":false,
     "hide_output_from_viewers":false
    }
   }
  },
  {
   "cell_type":"code",
   "source":[
    "from sklearn.metrics import mean_squared_error, mean_absolute_error\n",
    "mean_squared_error(y, y_pred, squared=False)\n",
    "mean_absolute_error(y, y_pred)"
   ],
   "execution_count":54,
   "outputs":[
    {
     "data":{
      "text\/plain":[
       "0.1834664583005531"
      ]
     },
     "metadata":{
      
     },
     "output_type":"display_data"
    }
   ],
   "metadata":{
    "datalore":{
     "type":"CODE",
     "hide_input_from_viewers":false,
     "hide_output_from_viewers":false
    }
   }
  },
  {
   "cell_type":"code",
   "source":[
    "# from sklearn.linear_model import ridge_regression\n",
    "\n",
    "# ridge_coef = ridge_regression(df_norm, y, 0.001)\n",
    "# coef = pd.DataFrame(ridge_coef)\n",
    "# # reg.coef #0.584210959834182\n",
    "# coef\n",
    "\n",
    "from sklearn.linear_model import Ridge\n",
    "        \n",
    "clf = Ridge(alpha=1)\n",
    "clf.fit(df_norm, y)\n",
    "ridge_coef = clf.coef_\n",
    "ridge_coef\n"
   ],
   "execution_count":147,
   "outputs":[
    {
     "data":{
      "text\/html":[
       
      ]
     },
     "metadata":{
      
     },
     "output_type":"display_data"
    }
   ],
   "metadata":{
    "datalore":{
     "type":"CODE",
     "hide_input_from_viewers":false,
     "hide_output_from_viewers":false
    }
   }
  },
  {
   "cell_type":"code",
   "source":[
    "y_ridge = compare(ridge_coef, y)\n",
    "\n",
    "plt.plot(np.arange(1030), y)\n",
    "plt.plot(np.arange(1030), y_ridge)\n",
    "# plt.title('стационарный временной ряд АР(2)')\n",
    "plt.show()\n",
    "\n",
    "print(r2_score(y, y_ridge), mean_squared_error(y, y_ridge, squared=False),\n",
    "      mean_absolute_error(y, y_ridge))\n",
    "\n",
    "df['y_ridge'] = y_ridge\n",
    "df['y_ridge']"
   ],
   "execution_count":149,
   "outputs":[
    {
     "name":"stdout",
     "text":[
      "0.14488232428433923 0.19236535844716493 0.1619653104870846\n"
     ],
     "output_type":"stream"
    },
    {
     "data":{
      "image\/png":"[encoded data removed]",
      "text\/html":[
       
      ]
     },
     "metadata":{
      "image\/png":{
       
      }
     },
     "output_type":"display_data"
    }
   ],
   "metadata":{
    "datalore":{
     "type":"CODE",
     "hide_input_from_viewers":false,
     "hide_output_from_viewers":false
    }
   }
  },
  {
   "cell_type":"code",
   "source":[
    "from sklearn.linear_model import Lasso\n",
    "\n",
    "# ridge_coef = ridge_regression(df_norm, y, 0.001)\n",
    "# coef = pd.DataFrame(ridge_coef)\n",
    "# # reg.coef #0.584210959834182\n",
    "# coef\n",
    "\n",
    "clf = Lasso(alpha=0.0001)  # 0.01 - (2) = 0\n",
    "clf.fit(df_norm, y)\n",
    "# Lasso(alpha=0.1)\n",
    "lasso_coef = clf.coef_\n",
    "lasso_coef"
   ],
   "execution_count":105,
   "outputs":[
    {
     "data":{
      "text\/html":[
       
      ]
     },
     "metadata":{
      
     },
     "output_type":"display_data"
    }
   ],
   "metadata":{
    "datalore":{
     "type":"CODE",
     "hide_input_from_viewers":false,
     "hide_output_from_viewers":false
    }
   }
  },
  {
   "cell_type":"code",
   "source":[
    "y_lasso = compare(lasso_coef, y)\n",
    "\n",
    "plt.plot(np.arange(1030), y)\n",
    "plt.plot(np.arange(1030), y_lasso)\n",
    "# plt.title('стационарный временной ряд АР(2)')\n",
    "plt.show()\n",
    "\n",
    "print(r2_score(y, y_lasso), mean_squared_error(y, y_lasso, squared=False),\n",
    "      mean_absolute_error(y, y_lasso))\n",
    "\n",
    "df['y_lasso'] = y_lasso\n",
    "df['y_lasso']"
   ],
   "execution_count":106,
   "outputs":[
    {
     "name":"stdout",
     "text":[
      "0.1682847918754784 0.18971481456179445 0.16009937525326673\n"
     ],
     "output_type":"stream"
    },
    {
     "data":{
      "image\/png":"[encoded data removed]",
      "text\/html":[
       
      ]
     },
     "metadata":{
      "image\/png":{
       
      }
     },
     "output_type":"display_data"
    }
   ],
   "metadata":{
    "datalore":{
     "type":"CODE",
     "hide_input_from_viewers":false,
     "hide_output_from_viewers":false
    }
   }
  },
  {
   "cell_type":"code",
   "source":[
    "from sklearn.linear_model import Lasso\n",
    "\n",
    "# ridge_coef = ridge_regression(df_norm, y, 0.001)\n",
    "# coef = pd.DataFrame(ridge_coef)\n",
    "# # reg.coef #0.584210959834182\n",
    "# coef\n",
    "\n",
    "clf = Lasso(alpha=0.01)  # 0.01 - (2) = 0\n",
    "clf.fit(df_norm_full, y)\n",
    "# Lasso(alpha=0.1)\n",
    "lasso_coef = clf.coef_\n",
    "lasso_coef"
   ],
   "execution_count":132,
   "outputs":[
    {
     "data":{
      "text\/html":[
       
      ]
     },
     "metadata":{
      
     },
     "output_type":"display_data"
    }
   ],
   "metadata":{
    "datalore":{
     "type":"CODE",
     "hide_input_from_viewers":false,
     "hide_output_from_viewers":false
    }
   }
  },
  {
   "cell_type":"code",
   "source":[
    "# y_lasso_full = []\n",
    "# for i in range(1030):\n",
    "#     y_lasso_full.append()\n",
    "df_norm_full"
   ],
   "execution_count":123,
   "outputs":[
    {
     "data":{
      "text\/html":[
       "<div>\n",
       "<style scoped>\n",
       "    .dataframe tbody tr th:only-of-type {\n",
       "        vertical-align: middle;\n",
       "    }\n",
       "\n",
       "    .dataframe tbody tr th {\n",
       "        vertical-align: top;\n",
       "    }\n",
       "\n",
       "    .dataframe thead th {\n",
       "        text-align: right;\n",
       "    }\n",
       "<\/style>\n",
       "<table border=\"1\" class=\"dataframe\">\n",
       "  <thead>\n",
       "    <tr style=\"text-align: right;\">\n",
       "      <th><\/th>\n",
       "      <th>component1<\/th>\n",
       "      <th>component2<\/th>\n",
       "      <th>component3<\/th>\n",
       "      <th>component4<\/th>\n",
       "      <th>component5<\/th>\n",
       "      <th>age<\/th>\n",
       "      <th>y_lasso<\/th>\n",
       "    <\/tr>\n",
       "  <\/thead>\n",
       "  <tbody>\n",
       "    <tr>\n",
       "      <th>0<\/th>\n",
       "      <td>1.000000<\/td>\n",
       "      <td>0.000000<\/td>\n",
       "      <td>0.000000<\/td>\n",
       "      <td>0.321357<\/td>\n",
       "      <td>0.077640<\/td>\n",
       "      <td>0.074176<\/td>\n",
       "      <td>0.507742<\/td>\n",
       "    <\/tr>\n",
       "    <tr>\n",
       "      <th>1<\/th>\n",
       "      <td>1.000000<\/td>\n",
       "      <td>0.000000<\/td>\n",
       "      <td>0.000000<\/td>\n",
       "      <td>0.321357<\/td>\n",
       "      <td>0.077640<\/td>\n",
       "      <td>0.074176<\/td>\n",
       "      <td>0.507742<\/td>\n",
       "    <\/tr>\n",
       "    <tr>\n",
       "      <th>2<\/th>\n",
       "      <td>0.526256<\/td>\n",
       "      <td>0.396494<\/td>\n",
       "      <td>0.000000<\/td>\n",
       "      <td>0.848303<\/td>\n",
       "      <td>0.000000<\/td>\n",
       "      <td>0.739011<\/td>\n",
       "      <td>0.543412<\/td>\n",
       "    <\/tr>\n",
       "    <tr>\n",
       "      <th>3<\/th>\n",
       "      <td>0.526256<\/td>\n",
       "      <td>0.396494<\/td>\n",
       "      <td>0.000000<\/td>\n",
       "      <td>0.848303<\/td>\n",
       "      <td>0.000000<\/td>\n",
       "      <td>1.000000<\/td>\n",
       "      <td>0.676400<\/td>\n",
       "    <\/tr>\n",
       "    <tr>\n",
       "      <th>4<\/th>\n",
       "      <td>0.220548<\/td>\n",
       "      <td>0.368392<\/td>\n",
       "      <td>0.000000<\/td>\n",
       "      <td>0.560878<\/td>\n",
       "      <td>0.000000<\/td>\n",
       "      <td>0.986264<\/td>\n",
       "      <td>0.580786<\/td>\n",
       "    <\/tr>\n",
       "    <tr>\n",
       "      <th>...<\/th>\n",
       "      <td>...<\/td>\n",
       "      <td>...<\/td>\n",
       "      <td>...<\/td>\n",
       "      <td>...<\/td>\n",
       "      <td>...<\/td>\n",
       "      <td>...<\/td>\n",
       "      <td>...<\/td>\n",
       "    <\/tr>\n",
       "    <tr>\n",
       "      <th>1025<\/th>\n",
       "      <td>0.398174<\/td>\n",
       "      <td>0.322760<\/td>\n",
       "      <td>0.451274<\/td>\n",
       "      <td>0.461876<\/td>\n",
       "      <td>0.276398<\/td>\n",
       "      <td>0.074176<\/td>\n",
       "      <td>0.335770<\/td>\n",
       "    <\/tr>\n",
       "    <tr>\n",
       "      <th>1026<\/th>\n",
       "      <td>0.502740<\/td>\n",
       "      <td>0.000000<\/td>\n",
       "      <td>0.577711<\/td>\n",
       "      <td>0.592814<\/td>\n",
       "      <td>0.322981<\/td>\n",
       "      <td>0.074176<\/td>\n",
       "      <td>0.254061<\/td>\n",
       "    <\/tr>\n",
       "    <tr>\n",
       "      <th>1027<\/th>\n",
       "      <td>0.106164<\/td>\n",
       "      <td>0.387869<\/td>\n",
       "      <td>0.542729<\/td>\n",
       "      <td>0.566467<\/td>\n",
       "      <td>0.189441<\/td>\n",
       "      <td>0.074176<\/td>\n",
       "      <td>0.165757<\/td>\n",
       "    <\/tr>\n",
       "    <tr>\n",
       "      <th>1028<\/th>\n",
       "      <td>0.130365<\/td>\n",
       "      <td>0.519477<\/td>\n",
       "      <td>0.000000<\/td>\n",
       "      <td>0.429940<\/td>\n",
       "      <td>0.350932<\/td>\n",
       "      <td>0.074176<\/td>\n",
       "      <td>0.200934<\/td>\n",
       "    <\/tr>\n",
       "    <tr>\n",
       "      <th>1029<\/th>\n",
       "      <td>0.362785<\/td>\n",
       "      <td>0.279633<\/td>\n",
       "      <td>0.391304<\/td>\n",
       "      <td>0.629541<\/td>\n",
       "      <td>0.267081<\/td>\n",
       "      <td>0.074176<\/td>\n",
       "      <td>0.232005<\/td>\n",
       "    <\/tr>\n",
       "  <\/tbody>\n",
       "<\/table>\n",
       "<p>1030 rows × 7 columns<\/p>\n",
       "<\/div>"
      ]
     },
     "metadata":{
      
     },
     "output_type":"display_data"
    }
   ],
   "metadata":{
    "datalore":{
     "type":"CODE",
     "hide_input_from_viewers":false,
     "hide_output_from_viewers":false
    }
   }
  },
  {
   "cell_type":"code",
   "source":[
    "y_lasso_full = []\n",
    "coef = lasso_coef\n",
    "for i in range(1030):\n",
    "    y_lasso_full.append(coef[0] * df_norm['component1'][i] + coef[1] * df_norm['component2'][i] +\n",
    "                  coef[2] * df_norm['component3'][i] + coef[3] * df_norm['component4'][i] +\n",
    "                  coef[4] * df_norm['component5'][i] + coef[5] * df_norm['component6'][i] + coef[6] * df_norm['component7'][i]\n",
    "    +coef[7] * df_norm['age'][i])\n",
    "\n",
    "plt.plot(np.arange(1030), y)\n",
    "plt.plot(np.arange(1030), y_lasso_full)\n",
    "# plt.title('стационарный временной ряд АР(2)')\n",
    "plt.show()\n",
    "\n",
    "print(r2_score(y, y_lasso_full), mean_squared_error(y, y_lasso_full, squared=False),\n",
    "      mean_absolute_error(y, y_lasso_full))\n",
    "\n",
    "df['y_lasso_full'] = y_lasso_full\n",
    "df['y_lasso_full']"
   ],
   "execution_count":133,
   "outputs":[
    {
     "name":"stdout",
     "text":[
      "-1.6102693693555707 0.3360907716670242 0.2875813036474202\n"
     ],
     "output_type":"stream"
    },
    {
     "data":{
      "image\/png":"[encoded data removed]",
      "text\/html":[
       
      ]
     },
     "metadata":{
      "image\/png":{
       
      }
     },
     "output_type":"display_data"
    }
   ],
   "metadata":{
    "datalore":{
     "type":"CODE",
     "hide_input_from_viewers":false,
     "hide_output_from_viewers":false
    }
   }
  },
  {
   "cell_type":"code",
   "source":[
    "from sklearn.linear_model import ElasticNet\n",
    "\n",
    "# ridge_coef = ridge_regression(df_norm, y, 0.001)\n",
    "# coef = pd.DataFrame(ridge_coef)\n",
    "# # reg.coef #0.584210959834182\n",
    "# coef\n",
    "\n",
    "clf = ElasticNet(alpha=0.00001)  # 0.01 - (2) = 0\n",
    "clf.fit(df_norm, y)\n",
    "# Lasso(alpha=0.1)\n",
    "elastic_coef = clf.coef_\n",
    "elastic_coef"
   ],
   "execution_count":165,
   "outputs":[
    {
     "data":{
      "text\/html":[
       
      ]
     },
     "metadata":{
      
     },
     "output_type":"display_data"
    }
   ],
   "metadata":{
    "datalore":{
     "type":"CODE",
     "hide_input_from_viewers":false,
     "hide_output_from_viewers":false
    }
   }
  },
  {
   "cell_type":"code",
   "source":[
    "y_elastic = compare(elastic_coef, y)\n",
    "\n",
    "plt.plot(np.arange(1030), y)\n",
    "plt.plot(np.arange(1030), y_elastic)\n",
    "# plt.title('стационарный временной ряд АР(2)')\n",
    "plt.show()\n",
    "\n",
    "print(r2_score(y, y_elastic), mean_squared_error(y, y_elastic, squared=False),\n",
    "      mean_absolute_error(y, y_elastic))\n",
    "\n",
    "df['y_elastic'] = y_elastic\n",
    "df['y_elastic']"
   ],
   "execution_count":166,
   "outputs":[
    {
     "name":"stdout",
     "text":[
      "0.1801116965342845 0.18836112242185102 0.15897492478973554\n"
     ],
     "output_type":"stream"
    },
    {
     "data":{
      "image\/png":"[encoded data removed]",
      "text\/html":[
       
      ]
     },
     "metadata":{
      "image\/png":{
       
      }
     },
     "output_type":"display_data"
    }
   ],
   "metadata":{
    "datalore":{
     "type":"CODE",
     "hide_input_from_viewers":false,
     "hide_output_from_viewers":false
    }
   }
  },
  {
   "cell_type":"code",
   "source":[
    "path_to_datafile = \"data.xls\"\n",
    "x = pd.read_excel(path_to_datafile)\n",
    "x.head()"
   ],
   "execution_count":null,
   "outputs":[
    
   ],
   "metadata":{
    "datalore":{
     "type":"CODE",
     "hide_input_from_viewers":false,
     "hide_output_from_viewers":false
    }
   }
  },
  {
   "cell_type":"markdown",
   "source":[
    "# Sheet 3"
   ],
   "attachments":{
    
   },
   "metadata":{
    "datalore":{
     "type":"MD",
     "hide_input_from_viewers":false,
     "hide_output_from_viewers":false,
     "sheet_delimiter":true
    }
   }
  },
  {
   "cell_type":"code",
   "source":[
    "import numpy as np\n",
    "import pandas as pd\n",
    "import matplotlib.pyplot as plt\n",
    "from sklearn.linear_model import LinearRegression\n",
    "from sklearn.metrics import r2_score"
   ],
   "execution_count":2,
   "outputs":[
    
   ],
   "metadata":{
    "datalore":{
     "type":"CODE",
     "hide_input_from_viewers":false,
     "hide_output_from_viewers":false
    }
   }
  },
  {
   "cell_type":"code",
   "source":[
    "# read data\n",
    "path_to_datafile = \"Concrete_Data.xls\"\n",
    "df = pd.read_excel(path_to_datafile)\n",
    "df.rename(columns={\"Cement (component 1)(kg in a m^3 mixture)\": \"component1\",\n",
    "                   \"Blast Furnace Slag (component 2)(kg in a m^3 mixture)\": \"component2\",\n",
    "                   \"Fly Ash (component 3)(kg in a m^3 mixture)\": \"component3\",\n",
    "                   \"Water  (component 4)(kg in a m^3 mixture)\": \"component4\",\n",
    "                   \"Superplasticizer (component 5)(kg in a m^3 mixture)\": \"component5\",\n",
    "                   \"Coarse Aggregate  (component 6)(kg in a m^3 mixture)\": \"component6\",\n",
    "                   \"Fine Aggregate (component 7)(kg in a m^3 mixture)\": \"component7\",\n",
    "                   \"Age (day)\": \"age\",\n",
    "                   \"Concrete compressive strength(MPa, megapascals) \": \"y\", }, inplace=True)\n",
    "\n",
    "df.head()"
   ],
   "execution_count":3,
   "outputs":[
    {
     "data":{
      "text\/html":[
       "<div>\n",
       "<style scoped>\n",
       "    .dataframe tbody tr th:only-of-type {\n",
       "        vertical-align: middle;\n",
       "    }\n",
       "\n",
       "    .dataframe tbody tr th {\n",
       "        vertical-align: top;\n",
       "    }\n",
       "\n",
       "    .dataframe thead th {\n",
       "        text-align: right;\n",
       "    }\n",
       "<\/style>\n",
       "<table border=\"1\" class=\"dataframe\">\n",
       "  <thead>\n",
       "    <tr style=\"text-align: right;\">\n",
       "      <th><\/th>\n",
       "      <th>component1<\/th>\n",
       "      <th>component2<\/th>\n",
       "      <th>component3<\/th>\n",
       "      <th>component4<\/th>\n",
       "      <th>component5<\/th>\n",
       "      <th>component6<\/th>\n",
       "      <th>component7<\/th>\n",
       "      <th>age<\/th>\n",
       "      <th>y<\/th>\n",
       "    <\/tr>\n",
       "  <\/thead>\n",
       "  <tbody>\n",
       "    <tr>\n",
       "      <th>0<\/th>\n",
       "      <td>540.0<\/td>\n",
       "      <td>0.0<\/td>\n",
       "      <td>0.0<\/td>\n",
       "      <td>162.0<\/td>\n",
       "      <td>2.5<\/td>\n",
       "      <td>1040.0<\/td>\n",
       "      <td>676.0<\/td>\n",
       "      <td>28<\/td>\n",
       "      <td>79.986111<\/td>\n",
       "    <\/tr>\n",
       "    <tr>\n",
       "      <th>1<\/th>\n",
       "      <td>540.0<\/td>\n",
       "      <td>0.0<\/td>\n",
       "      <td>0.0<\/td>\n",
       "      <td>162.0<\/td>\n",
       "      <td>2.5<\/td>\n",
       "      <td>1055.0<\/td>\n",
       "      <td>676.0<\/td>\n",
       "      <td>28<\/td>\n",
       "      <td>61.887366<\/td>\n",
       "    <\/tr>\n",
       "    <tr>\n",
       "      <th>2<\/th>\n",
       "      <td>332.5<\/td>\n",
       "      <td>142.5<\/td>\n",
       "      <td>0.0<\/td>\n",
       "      <td>228.0<\/td>\n",
       "      <td>0.0<\/td>\n",
       "      <td>932.0<\/td>\n",
       "      <td>594.0<\/td>\n",
       "      <td>270<\/td>\n",
       "      <td>40.269535<\/td>\n",
       "    <\/tr>\n",
       "    <tr>\n",
       "      <th>3<\/th>\n",
       "      <td>332.5<\/td>\n",
       "      <td>142.5<\/td>\n",
       "      <td>0.0<\/td>\n",
       "      <td>228.0<\/td>\n",
       "      <td>0.0<\/td>\n",
       "      <td>932.0<\/td>\n",
       "      <td>594.0<\/td>\n",
       "      <td>365<\/td>\n",
       "      <td>41.052780<\/td>\n",
       "    <\/tr>\n",
       "    <tr>\n",
       "      <th>4<\/th>\n",
       "      <td>198.6<\/td>\n",
       "      <td>132.4<\/td>\n",
       "      <td>0.0<\/td>\n",
       "      <td>192.0<\/td>\n",
       "      <td>0.0<\/td>\n",
       "      <td>978.4<\/td>\n",
       "      <td>825.5<\/td>\n",
       "      <td>360<\/td>\n",
       "      <td>44.296075<\/td>\n",
       "    <\/tr>\n",
       "  <\/tbody>\n",
       "<\/table>\n",
       "<\/div>"
      ]
     },
     "metadata":{
      
     },
     "output_type":"display_data"
    }
   ],
   "metadata":{
    "datalore":{
     "type":"CODE",
     "hide_input_from_viewers":false,
     "hide_output_from_viewers":false
    }
   }
  },
  {
   "cell_type":"code",
   "source":[
    "# normalization\n",
    "df_norm = df.copy(deep=True)\n",
    "df_norm[\"component1\"] = [(x - min(df_norm[\"component1\"])) \/ (max(df_norm[\"component1\"]) - min(df_norm[\"component1\"]))\n",
    "                         for x in df_norm[\"component1\"]]\n",
    "df_norm[\"component2\"] = [(x - min(df_norm[\"component2\"])) \/ (max(df_norm[\"component2\"]) - min(df_norm[\"component2\"]))\n",
    "                         for x in df_norm[\"component2\"]]\n",
    "\n",
    "df_norm[\"component3\"] = [(x - min(df_norm[\"component3\"])) \/ (max(df_norm[\"component3\"]) - min(df_norm[\"component3\"]))\n",
    "                         for x in df_norm[\"component3\"]]\n",
    "\n",
    "df_norm[\"component4\"] = [(x - min(df_norm[\"component4\"])) \/ (max(df_norm[\"component4\"]) - min(df_norm[\"component4\"]))\n",
    "                         for x in df_norm[\"component4\"]]\n",
    "\n",
    "df_norm[\"component5\"] = [(x - min(df_norm[\"component5\"])) \/ (max(df_norm[\"component5\"]) - min(df_norm[\"component5\"]))\n",
    "                         for x in df_norm[\"component5\"]]\n",
    "\n",
    "df_norm[\"component6\"] = [(x - min(df_norm[\"component6\"])) \/ (max(df_norm[\"component6\"]) - min(df_norm[\"component6\"]))\n",
    "                         for x in df_norm[\"component6\"]]\n",
    "\n",
    "df_norm[\"component7\"] = [(x - min(df_norm[\"component7\"])) \/ (max(df_norm[\"component7\"]) - min(df_norm[\"component7\"]))\n",
    "                         for x in df_norm[\"component7\"]]\n",
    "\n",
    "df_norm[\"age\"] = [(x - min(df_norm[\"age\"])) \/ (max(df_norm[\"age\"]) - min(df_norm[\"age\"]))\n",
    "                  for x in df_norm[\"age\"]]\n",
    "\n",
    "df_norm[\"y\"] = [(x - min(df_norm[\"y\"])) \/ (max(df_norm[\"y\"]) - min(df_norm[\"y\"]))\n",
    "                  for x in df_norm[\"y\"]]"
   ],
   "execution_count":4,
   "outputs":[
    
   ],
   "metadata":{
    "datalore":{
     "type":"CODE",
     "hide_input_from_viewers":false,
     "hide_output_from_viewers":false
    }
   }
  },
  {
   "cell_type":"code",
   "source":[
    "x = df_norm.copy(deep=False)\n",
    "y = df_norm['y']\n",
    "del x['component6']\n",
    "del x['component7']\n",
    "del x['y']\n",
    "\n",
    "x"
   ],
   "execution_count":5,
   "outputs":[
    {
     "data":{
      "text\/html":[
       "<div>\n",
       "<style scoped>\n",
       "    .dataframe tbody tr th:only-of-type {\n",
       "        vertical-align: middle;\n",
       "    }\n",
       "\n",
       "    .dataframe tbody tr th {\n",
       "        vertical-align: top;\n",
       "    }\n",
       "\n",
       "    .dataframe thead th {\n",
       "        text-align: right;\n",
       "    }\n",
       "<\/style>\n",
       "<table border=\"1\" class=\"dataframe\">\n",
       "  <thead>\n",
       "    <tr style=\"text-align: right;\">\n",
       "      <th><\/th>\n",
       "      <th>component1<\/th>\n",
       "      <th>component2<\/th>\n",
       "      <th>component3<\/th>\n",
       "      <th>component4<\/th>\n",
       "      <th>component5<\/th>\n",
       "      <th>age<\/th>\n",
       "    <\/tr>\n",
       "  <\/thead>\n",
       "  <tbody>\n",
       "    <tr>\n",
       "      <th>0<\/th>\n",
       "      <td>1.000000<\/td>\n",
       "      <td>0.000000<\/td>\n",
       "      <td>0.000000<\/td>\n",
       "      <td>0.321357<\/td>\n",
       "      <td>0.077640<\/td>\n",
       "      <td>0.074176<\/td>\n",
       "    <\/tr>\n",
       "    <tr>\n",
       "      <th>1<\/th>\n",
       "      <td>1.000000<\/td>\n",
       "      <td>0.000000<\/td>\n",
       "      <td>0.000000<\/td>\n",
       "      <td>0.321357<\/td>\n",
       "      <td>0.077640<\/td>\n",
       "      <td>0.074176<\/td>\n",
       "    <\/tr>\n",
       "    <tr>\n",
       "      <th>2<\/th>\n",
       "      <td>0.526256<\/td>\n",
       "      <td>0.396494<\/td>\n",
       "      <td>0.000000<\/td>\n",
       "      <td>0.848303<\/td>\n",
       "      <td>0.000000<\/td>\n",
       "      <td>0.739011<\/td>\n",
       "    <\/tr>\n",
       "    <tr>\n",
       "      <th>3<\/th>\n",
       "      <td>0.526256<\/td>\n",
       "      <td>0.396494<\/td>\n",
       "      <td>0.000000<\/td>\n",
       "      <td>0.848303<\/td>\n",
       "      <td>0.000000<\/td>\n",
       "      <td>1.000000<\/td>\n",
       "    <\/tr>\n",
       "    <tr>\n",
       "      <th>4<\/th>\n",
       "      <td>0.220548<\/td>\n",
       "      <td>0.368392<\/td>\n",
       "      <td>0.000000<\/td>\n",
       "      <td>0.560878<\/td>\n",
       "      <td>0.000000<\/td>\n",
       "      <td>0.986264<\/td>\n",
       "    <\/tr>\n",
       "    <tr>\n",
       "      <th>...<\/th>\n",
       "      <td>...<\/td>\n",
       "      <td>...<\/td>\n",
       "      <td>...<\/td>\n",
       "      <td>...<\/td>\n",
       "      <td>...<\/td>\n",
       "      <td>...<\/td>\n",
       "    <\/tr>\n",
       "    <tr>\n",
       "      <th>1025<\/th>\n",
       "      <td>0.398174<\/td>\n",
       "      <td>0.322760<\/td>\n",
       "      <td>0.451274<\/td>\n",
       "      <td>0.461876<\/td>\n",
       "      <td>0.276398<\/td>\n",
       "      <td>0.074176<\/td>\n",
       "    <\/tr>\n",
       "    <tr>\n",
       "      <th>1026<\/th>\n",
       "      <td>0.502740<\/td>\n",
       "      <td>0.000000<\/td>\n",
       "      <td>0.577711<\/td>\n",
       "      <td>0.592814<\/td>\n",
       "      <td>0.322981<\/td>\n",
       "      <td>0.074176<\/td>\n",
       "    <\/tr>\n",
       "    <tr>\n",
       "      <th>1027<\/th>\n",
       "      <td>0.106164<\/td>\n",
       "      <td>0.387869<\/td>\n",
       "      <td>0.542729<\/td>\n",
       "      <td>0.566467<\/td>\n",
       "      <td>0.189441<\/td>\n",
       "      <td>0.074176<\/td>\n",
       "    <\/tr>\n",
       "    <tr>\n",
       "      <th>1028<\/th>\n",
       "      <td>0.130365<\/td>\n",
       "      <td>0.519477<\/td>\n",
       "      <td>0.000000<\/td>\n",
       "      <td>0.429940<\/td>\n",
       "      <td>0.350932<\/td>\n",
       "      <td>0.074176<\/td>\n",
       "    <\/tr>\n",
       "    <tr>\n",
       "      <th>1029<\/th>\n",
       "      <td>0.362785<\/td>\n",
       "      <td>0.279633<\/td>\n",
       "      <td>0.391304<\/td>\n",
       "      <td>0.629541<\/td>\n",
       "      <td>0.267081<\/td>\n",
       "      <td>0.074176<\/td>\n",
       "    <\/tr>\n",
       "  <\/tbody>\n",
       "<\/table>\n",
       "<p>1030 rows × 6 columns<\/p>\n",
       "<\/div>"
      ]
     },
     "metadata":{
      
     },
     "output_type":"display_data"
    }
   ],
   "metadata":{
    "datalore":{
     "type":"CODE",
     "hide_input_from_viewers":false,
     "hide_output_from_viewers":false
    }
   }
  },
  {
   "cell_type":"code",
   "source":[
    "y"
   ],
   "execution_count":5,
   "outputs":[
    {
     "data":{
      "text\/html":[
       
      ]
     },
     "metadata":{
      
     },
     "output_type":"display_data"
    }
   ],
   "metadata":{
    "datalore":{
     "type":"CODE",
     "hide_input_from_viewers":false,
     "hide_output_from_viewers":false
    }
   }
  },
  {
   "cell_type":"code",
   "source":[
    "x_train = x[:721]\n",
    "x_test = x[721:]\n",
    "y_train = y[:721]\n",
    "y_test = y[721:]\n",
    "y_test"
   ],
   "execution_count":8,
   "outputs":[
    {
     "data":{
      "text\/html":[
       
      ]
     },
     "metadata":{
      
     },
     "output_type":"display_data"
    }
   ],
   "metadata":{
    "datalore":{
     "type":"CODE",
     "hide_input_from_viewers":false,
     "hide_output_from_viewers":false
    }
   }
  },
  {
   "cell_type":"code",
   "source":[
    "reg = LinearRegression().fit(x_train, y_train)\n",
    "ols_coef = reg.coef_\n",
    "ols_coef\n",
    "ols_bias = reg.intercept_\n",
    "print(reg.intercept_)\n",
    "# print(ols_coef)"
   ],
   "execution_count":11,
   "outputs":[
    {
     "name":"stdout",
     "text":[
      "0.1388896961666028\n"
     ],
     "output_type":"stream"
    }
   ],
   "metadata":{
    "datalore":{
     "type":"CODE",
     "hide_input_from_viewers":false,
     "hide_output_from_viewers":false
    }
   }
  },
  {
   "cell_type":"code",
   "source":[
    "from sklearn.metrics import mean_squared_error, mean_absolute_error\n",
    "0.5381124875830006\n",
    "y_ols_train = compare(ols_coef, x_train, ols_bias)\n",
    "\n",
    "plt.plot(np.arange(len(y_train)), y_train)\n",
    "plt.plot(np.arange(len(y_train)), y_ols_train)\n",
    "plt.title('TRAIN')\n",
    "plt.show()\n",
    "\n",
    "print('R2 = ', r2_score(y_train, y_ols_train), '; SMSE = ', mean_squared_error(y_train, y_ols_train, squared=False),\n",
    "      '; MAE = ', mean_absolute_error(y_train, y_ols_train))\n",
    "\n",
    "pd.DataFrame(y_ols_train, columns=['y_ols_train'])"
   ],
   "execution_count":36,
   "outputs":[
    {
     "name":"stdout",
     "text":[
      "R2 =  0.6010968090325687 ; SMSE =  0.13941222641830606 ; MAE =  0.11217263959763538\n"
     ],
     "output_type":"stream"
    },
    {
     "data":{
      "image\/png":"[encoded data removed]",
      "text\/html":[
       "<div>\n",
       "<style scoped>\n",
       "    .dataframe tbody tr th:only-of-type {\n",
       "        vertical-align: middle;\n",
       "    }\n",
       "\n",
       "    .dataframe tbody tr th {\n",
       "        vertical-align: top;\n",
       "    }\n",
       "\n",
       "    .dataframe thead th {\n",
       "        text-align: right;\n",
       "    }\n",
       "<\/style>\n",
       "<table border=\"1\" class=\"dataframe\">\n",
       "  <thead>\n",
       "    <tr style=\"text-align: right;\">\n",
       "      <th><\/th>\n",
       "      <th>y_ols_train<\/th>\n",
       "    <\/tr>\n",
       "  <\/thead>\n",
       "  <tbody>\n",
       "    <tr>\n",
       "      <th>0<\/th>\n",
       "      <td>0.622208<\/td>\n",
       "    <\/tr>\n",
       "    <tr>\n",
       "      <th>1<\/th>\n",
       "      <td>0.622208<\/td>\n",
       "    <\/tr>\n",
       "    <tr>\n",
       "      <th>2<\/th>\n",
       "      <td>0.692353<\/td>\n",
       "    <\/tr>\n",
       "    <tr>\n",
       "      <th>3<\/th>\n",
       "      <td>0.836537<\/td>\n",
       "    <\/tr>\n",
       "    <tr>\n",
       "      <th>4<\/th>\n",
       "      <td>0.749174<\/td>\n",
       "    <\/tr>\n",
       "    <tr>\n",
       "      <th>...<\/th>\n",
       "      <td>...<\/td>\n",
       "    <\/tr>\n",
       "    <tr>\n",
       "      <th>716<\/th>\n",
       "      <td>0.152319<\/td>\n",
       "    <\/tr>\n",
       "    <tr>\n",
       "      <th>717<\/th>\n",
       "      <td>0.185845<\/td>\n",
       "    <\/tr>\n",
       "    <tr>\n",
       "      <th>718<\/th>\n",
       "      <td>0.140993<\/td>\n",
       "    <\/tr>\n",
       "    <tr>\n",
       "      <th>719<\/th>\n",
       "      <td>0.387211<\/td>\n",
       "    <\/tr>\n",
       "    <tr>\n",
       "      <th>720<\/th>\n",
       "      <td>0.487103<\/td>\n",
       "    <\/tr>\n",
       "  <\/tbody>\n",
       "<\/table>\n",
       "<p>721 rows × 1 columns<\/p>\n",
       "<\/div>"
      ]
     },
     "metadata":{
      "image\/png":{
       
      }
     },
     "output_type":"display_data"
    }
   ],
   "metadata":{
    "datalore":{
     "type":"CODE",
     "hide_input_from_viewers":false,
     "hide_output_from_viewers":false
    }
   }
  },
  {
   "cell_type":"code",
   "source":[
    "\n",
    "y_ols_test = reg.predict(x_test)\n",
    "\n",
    "plt.plot(np.arange(len(y_ols_test)), y_test)\n",
    "plt.plot(np.arange(len(y_ols_test)), y_ols_test)\n",
    "plt.title('TEST')\n",
    "plt.show()\n",
    "\n",
    "print('R2 = ', r2_score(y_test, y_ols_test), '; SMSE = ',mean_squared_error(y_test, y_ols_test, squared=False),\n",
    "      '; MAE = ',mean_absolute_error(y_test, y_ols_test))\n",
    "\n",
    "pd.DataFrame(y_ols_train, columns=['y_ols_test'])"
   ],
   "execution_count":39,
   "outputs":[
    {
     "name":"stdout",
     "text":[
      "R2 =  0.603514026143545 ; SMSE =  0.10543249229909729 ; MAE =  0.08275532287308061\n"
     ],
     "output_type":"stream"
    },
    {
     "data":{
      "image\/png":"[encoded data removed]",
      "text\/html":[
       "<div>\n",
       "<style scoped>\n",
       "    .dataframe tbody tr th:only-of-type {\n",
       "        vertical-align: middle;\n",
       "    }\n",
       "\n",
       "    .dataframe tbody tr th {\n",
       "        vertical-align: top;\n",
       "    }\n",
       "\n",
       "    .dataframe thead th {\n",
       "        text-align: right;\n",
       "    }\n",
       "<\/style>\n",
       "<table border=\"1\" class=\"dataframe\">\n",
       "  <thead>\n",
       "    <tr style=\"text-align: right;\">\n",
       "      <th><\/th>\n",
       "      <th>y_ols_test<\/th>\n",
       "    <\/tr>\n",
       "  <\/thead>\n",
       "  <tbody>\n",
       "    <tr>\n",
       "      <th>0<\/th>\n",
       "      <td>0.622208<\/td>\n",
       "    <\/tr>\n",
       "    <tr>\n",
       "      <th>1<\/th>\n",
       "      <td>0.622208<\/td>\n",
       "    <\/tr>\n",
       "    <tr>\n",
       "      <th>2<\/th>\n",
       "      <td>0.692353<\/td>\n",
       "    <\/tr>\n",
       "    <tr>\n",
       "      <th>3<\/th>\n",
       "      <td>0.836537<\/td>\n",
       "    <\/tr>\n",
       "    <tr>\n",
       "      <th>4<\/th>\n",
       "      <td>0.749174<\/td>\n",
       "    <\/tr>\n",
       "    <tr>\n",
       "      <th>...<\/th>\n",
       "      <td>...<\/td>\n",
       "    <\/tr>\n",
       "    <tr>\n",
       "      <th>716<\/th>\n",
       "      <td>0.152319<\/td>\n",
       "    <\/tr>\n",
       "    <tr>\n",
       "      <th>717<\/th>\n",
       "      <td>0.185845<\/td>\n",
       "    <\/tr>\n",
       "    <tr>\n",
       "      <th>718<\/th>\n",
       "      <td>0.140993<\/td>\n",
       "    <\/tr>\n",
       "    <tr>\n",
       "      <th>719<\/th>\n",
       "      <td>0.387211<\/td>\n",
       "    <\/tr>\n",
       "    <tr>\n",
       "      <th>720<\/th>\n",
       "      <td>0.487103<\/td>\n",
       "    <\/tr>\n",
       "  <\/tbody>\n",
       "<\/table>\n",
       "<p>721 rows × 1 columns<\/p>\n",
       "<\/div>"
      ]
     },
     "metadata":{
      "image\/png":{
       
      }
     },
     "output_type":"display_data"
    }
   ],
   "metadata":{
    "datalore":{
     "type":"CODE",
     "hide_input_from_viewers":false,
     "hide_output_from_viewers":false
    }
   }
  },
  {
   "cell_type":"code",
   "source":[
    "from sklearn.linear_model import Ridge\n",
    "\n",
    "reg1 = Ridge(alpha=1).fit(x_train, y_train)\n",
    "ridge_coef = reg1.coef_\n",
    "\n",
    "ridge_bias = reg1.intercept_\n",
    "print(reg1.intercept_)\n",
    "ridge_coef\n",
    "\n",
    "# ols_coef"
   ],
   "execution_count":12,
   "outputs":[
    {
     "name":"stdout",
     "text":[
      "0.14123973351544272\n"
     ],
     "output_type":"stream"
    },
    {
     "data":{
      "text\/html":[
       
      ]
     },
     "metadata":{
      
     },
     "output_type":"display_data"
    }
   ],
   "metadata":{
    "datalore":{
     "type":"CODE",
     "hide_input_from_viewers":false,
     "hide_output_from_viewers":false
    }
   }
  },
  {
   "cell_type":"code",
   "source":[
    "from sklearn.metrics import mean_squared_error, mean_absolute_error\n",
    "y_ridge_train = compare(ridge_coef, x_train, ridge_bias)\n",
    "\n",
    "plt.plot(np.arange(len(y_train)), y_train)\n",
    "plt.plot(np.arange(len(y_train)), y_ridge_train)\n",
    "plt.title('TRAIN')\n",
    "plt.show()\n",
    "\n",
    "print('R2 = ', r2_score(y_train, y_ridge_train), '; SMSE = ', mean_squared_error(y_train, y_ridge_train, squared=False),\n",
    "      '; MAE = ', mean_absolute_error(y_train, y_ridge_train))\n",
    "\n",
    "pd.DataFrame(y_ridge_train, columns=['y_ridge_train'])"
   ],
   "execution_count":16,
   "outputs":[
    {
     "name":"stdout",
     "text":[
      "R2 =  0.5995356328872945 ; SMSE =  0.13968476686557366 ; MAE =  0.11290768188764178\n"
     ],
     "output_type":"stream"
    },
    {
     "data":{
      "image\/png":"[encoded data removed]",
      "text\/html":[
       "<div>\n",
       "<style scoped>\n",
       "    .dataframe tbody tr th:only-of-type {\n",
       "        vertical-align: middle;\n",
       "    }\n",
       "\n",
       "    .dataframe tbody tr th {\n",
       "        vertical-align: top;\n",
       "    }\n",
       "\n",
       "    .dataframe thead th {\n",
       "        text-align: right;\n",
       "    }\n",
       "<\/style>\n",
       "<table border=\"1\" class=\"dataframe\">\n",
       "  <thead>\n",
       "    <tr style=\"text-align: right;\">\n",
       "      <th><\/th>\n",
       "      <th>y_ridge_train<\/th>\n",
       "    <\/tr>\n",
       "  <\/thead>\n",
       "  <tbody>\n",
       "    <tr>\n",
       "      <th>0<\/th>\n",
       "      <td>0.604213<\/td>\n",
       "    <\/tr>\n",
       "    <tr>\n",
       "      <th>1<\/th>\n",
       "      <td>0.604213<\/td>\n",
       "    <\/tr>\n",
       "    <tr>\n",
       "      <th>2<\/th>\n",
       "      <td>0.678290<\/td>\n",
       "    <\/tr>\n",
       "    <tr>\n",
       "      <th>3<\/th>\n",
       "      <td>0.813796<\/td>\n",
       "    <\/tr>\n",
       "    <tr>\n",
       "      <th>4<\/th>\n",
       "      <td>0.725463<\/td>\n",
       "    <\/tr>\n",
       "    <tr>\n",
       "      <th>...<\/th>\n",
       "      <td>...<\/td>\n",
       "    <\/tr>\n",
       "    <tr>\n",
       "      <th>716<\/th>\n",
       "      <td>0.164195<\/td>\n",
       "    <\/tr>\n",
       "    <tr>\n",
       "      <th>717<\/th>\n",
       "      <td>0.196924<\/td>\n",
       "    <\/tr>\n",
       "    <tr>\n",
       "      <th>718<\/th>\n",
       "      <td>0.155652<\/td>\n",
       "    <\/tr>\n",
       "    <tr>\n",
       "      <th>719<\/th>\n",
       "      <td>0.384971<\/td>\n",
       "    <\/tr>\n",
       "    <tr>\n",
       "      <th>720<\/th>\n",
       "      <td>0.477123<\/td>\n",
       "    <\/tr>\n",
       "  <\/tbody>\n",
       "<\/table>\n",
       "<p>721 rows × 1 columns<\/p>\n",
       "<\/div>"
      ]
     },
     "metadata":{
      "image\/png":{
       
      }
     },
     "output_type":"display_data"
    }
   ],
   "metadata":{
    "datalore":{
     "type":"CODE",
     "hide_input_from_viewers":false,
     "hide_output_from_viewers":false
    }
   }
  },
  {
   "cell_type":"code",
   "source":[
    "y_ridge_test = reg1.predict(x_test)\n",
    "\n",
    "plt.plot(np.arange(len(y_ridge_test)), y_test)\n",
    "plt.plot(np.arange(len(y_ridge_test)), y_ridge_test)\n",
    "plt.title('TEST')\n",
    "plt.show()\n",
    "\n",
    "print('R2 = ', r2_score(y_test, y_ridge_test), '; RMSE = ',mean_squared_error(y_test, y_ridge_test, squared=False),\n",
    "      '; MAE = ',mean_absolute_error(y_test, y_ridge_test))\n",
    "\n",
    "pd.DataFrame(y_ridge_test, columns=['y_ridge_test'])"
   ],
   "execution_count":18,
   "outputs":[
    {
     "name":"stdout",
     "text":[
      "R2 =  0.5929882434806769 ; RMSE =  0.10682281927358038 ; MAE =  0.08367086658373997\n"
     ],
     "output_type":"stream"
    },
    {
     "data":{
      "image\/png":"[encoded data removed]",
      "text\/html":[
       "<div>\n",
       "<style scoped>\n",
       "    .dataframe tbody tr th:only-of-type {\n",
       "        vertical-align: middle;\n",
       "    }\n",
       "\n",
       "    .dataframe tbody tr th {\n",
       "        vertical-align: top;\n",
       "    }\n",
       "\n",
       "    .dataframe thead th {\n",
       "        text-align: right;\n",
       "    }\n",
       "<\/style>\n",
       "<table border=\"1\" class=\"dataframe\">\n",
       "  <thead>\n",
       "    <tr style=\"text-align: right;\">\n",
       "      <th><\/th>\n",
       "      <th>y_ridge_test<\/th>\n",
       "    <\/tr>\n",
       "  <\/thead>\n",
       "  <tbody>\n",
       "    <tr>\n",
       "      <th>0<\/th>\n",
       "      <td>0.223554<\/td>\n",
       "    <\/tr>\n",
       "    <tr>\n",
       "      <th>1<\/th>\n",
       "      <td>0.229260<\/td>\n",
       "    <\/tr>\n",
       "    <tr>\n",
       "      <th>2<\/th>\n",
       "      <td>0.259214<\/td>\n",
       "    <\/tr>\n",
       "    <tr>\n",
       "      <th>3<\/th>\n",
       "      <td>0.347650<\/td>\n",
       "    <\/tr>\n",
       "    <tr>\n",
       "      <th>4<\/th>\n",
       "      <td>0.390441<\/td>\n",
       "    <\/tr>\n",
       "    <tr>\n",
       "      <th>...<\/th>\n",
       "      <td>...<\/td>\n",
       "    <\/tr>\n",
       "    <tr>\n",
       "      <th>304<\/th>\n",
       "      <td>0.476498<\/td>\n",
       "    <\/tr>\n",
       "    <tr>\n",
       "      <th>305<\/th>\n",
       "      <td>0.415316<\/td>\n",
       "    <\/tr>\n",
       "    <tr>\n",
       "      <th>306<\/th>\n",
       "      <td>0.321410<\/td>\n",
       "    <\/tr>\n",
       "    <tr>\n",
       "      <th>307<\/th>\n",
       "      <td>0.354282<\/td>\n",
       "    <\/tr>\n",
       "    <tr>\n",
       "      <th>308<\/th>\n",
       "      <td>0.385665<\/td>\n",
       "    <\/tr>\n",
       "  <\/tbody>\n",
       "<\/table>\n",
       "<p>309 rows × 1 columns<\/p>\n",
       "<\/div>"
      ]
     },
     "metadata":{
      "image\/png":{
       
      }
     },
     "output_type":"display_data"
    }
   ],
   "metadata":{
    "datalore":{
     "type":"CODE",
     "hide_input_from_viewers":false,
     "hide_output_from_viewers":false
    }
   }
  },
  {
   "cell_type":"code",
   "source":[
    "#lasso\n",
    "from sklearn.linear_model import Lasso\n",
    "\n",
    "reg2 = Lasso(alpha=0.0001).fit(x_train, y_train)\n",
    "lasso_coef = reg2.coef_\n",
    "\n",
    "lasso_bias = reg2.intercept_\n",
    "print(reg2.intercept_)\n",
    "lasso_coef"
   ],
   "execution_count":20,
   "outputs":[
    {
     "name":"stdout",
     "text":[
      "0.1404567754980049\n"
     ],
     "output_type":"stream"
    },
    {
     "data":{
      "text\/html":[
       
      ]
     },
     "metadata":{
      
     },
     "output_type":"display_data"
    }
   ],
   "metadata":{
    "datalore":{
     "type":"CODE",
     "hide_input_from_viewers":false,
     "hide_output_from_viewers":false
    }
   }
  },
  {
   "cell_type":"code",
   "source":[
    "y_lasso_train = compare(lasso_coef, x_train, lasso_bias)\n",
    "\n",
    "plt.plot(np.arange(len(y_train)), y_train)\n",
    "plt.plot(np.arange(len(y_train)), y_lasso_train)\n",
    "plt.title('TRAIN')\n",
    "plt.show()\n",
    "\n",
    "print('R2 = ', r2_score(y_train, y_lasso_train), '; SMSE = ', mean_squared_error(y_train, y_lasso_train, squared=False),\n",
    "      '; MAE = ', mean_absolute_error(y_train, y_lasso_train))\n",
    "\n",
    "pd.DataFrame(y_lasso_train, columns=['y_lasso_train'])"
   ],
   "execution_count":21,
   "outputs":[
    {
     "name":"stdout",
     "text":[
      "R2 =  0.6010496617447125 ; SMSE =  0.13942046490111734 ; MAE =  0.11227641979351703\n"
     ],
     "output_type":"stream"
    },
    {
     "data":{
      "image\/png":"[encoded data removed]",
      "text\/html":[
       "<div>\n",
       "<style scoped>\n",
       "    .dataframe tbody tr th:only-of-type {\n",
       "        vertical-align: middle;\n",
       "    }\n",
       "\n",
       "    .dataframe tbody tr th {\n",
       "        vertical-align: top;\n",
       "    }\n",
       "\n",
       "    .dataframe thead th {\n",
       "        text-align: right;\n",
       "    }\n",
       "<\/style>\n",
       "<table border=\"1\" class=\"dataframe\">\n",
       "  <thead>\n",
       "    <tr style=\"text-align: right;\">\n",
       "      <th><\/th>\n",
       "      <th>y_lasso_train<\/th>\n",
       "    <\/tr>\n",
       "  <\/thead>\n",
       "  <tbody>\n",
       "    <tr>\n",
       "      <th>0<\/th>\n",
       "      <td>0.620294<\/td>\n",
       "    <\/tr>\n",
       "    <tr>\n",
       "      <th>1<\/th>\n",
       "      <td>0.620294<\/td>\n",
       "    <\/tr>\n",
       "    <tr>\n",
       "      <th>2<\/th>\n",
       "      <td>0.690278<\/td>\n",
       "    <\/tr>\n",
       "    <tr>\n",
       "      <th>3<\/th>\n",
       "      <td>0.833110<\/td>\n",
       "    <\/tr>\n",
       "    <tr>\n",
       "      <th>4<\/th>\n",
       "      <td>0.745827<\/td>\n",
       "    <\/tr>\n",
       "    <tr>\n",
       "      <th>...<\/th>\n",
       "      <td>...<\/td>\n",
       "    <\/tr>\n",
       "    <tr>\n",
       "      <th>716<\/th>\n",
       "      <td>0.154368<\/td>\n",
       "    <\/tr>\n",
       "    <tr>\n",
       "      <th>717<\/th>\n",
       "      <td>0.187576<\/td>\n",
       "    <\/tr>\n",
       "    <tr>\n",
       "      <th>718<\/th>\n",
       "      <td>0.143369<\/td>\n",
       "    <\/tr>\n",
       "    <tr>\n",
       "      <th>719<\/th>\n",
       "      <td>0.386748<\/td>\n",
       "    <\/tr>\n",
       "    <tr>\n",
       "      <th>720<\/th>\n",
       "      <td>0.485263<\/td>\n",
       "    <\/tr>\n",
       "  <\/tbody>\n",
       "<\/table>\n",
       "<p>721 rows × 1 columns<\/p>\n",
       "<\/div>"
      ]
     },
     "metadata":{
      "image\/png":{
       
      }
     },
     "output_type":"display_data"
    }
   ],
   "metadata":{
    "datalore":{
     "type":"CODE",
     "hide_input_from_viewers":false,
     "hide_output_from_viewers":false
    }
   }
  },
  {
   "cell_type":"code",
   "source":[
    "y_lasso_test = reg2.predict(x_test)\n",
    "\n",
    "plt.plot(np.arange(len(y_test)), y_test)\n",
    "plt.plot(np.arange(len(y_test)), y_lasso_test)\n",
    "plt.title('TEST')\n",
    "plt.show()\n",
    "\n",
    "print('R2 = ', r2_score(y_test, y_lasso_test), '; RMSE = ',mean_squared_error(y_test, y_lasso_test, squared=False),\n",
    "      '; MAE = ',mean_absolute_error(y_test, y_lasso_test))\n",
    "\n",
    "pd.DataFrame(y_lasso_test, columns=['y_lasso_test'])"
   ],
   "execution_count":22,
   "outputs":[
    {
     "name":"stdout",
     "text":[
      "R2 =  0.6033251325238597 ; RMSE =  0.10545760435216471 ; MAE =  0.08268587518696419\n"
     ],
     "output_type":"stream"
    },
    {
     "data":{
      "text\/html":[
       "<div>\n",
       "<style scoped>\n",
       "    .dataframe tbody tr th:only-of-type {\n",
       "        vertical-align: middle;\n",
       "    }\n",
       "\n",
       "    .dataframe tbody tr th {\n",
       "        vertical-align: top;\n",
       "    }\n",
       "\n",
       "    .dataframe thead th {\n",
       "        text-align: right;\n",
       "    }\n",
       "<\/style>\n",
       "<table border=\"1\" class=\"dataframe\">\n",
       "  <thead>\n",
       "    <tr style=\"text-align: right;\">\n",
       "      <th><\/th>\n",
       "      <th>y_lasso_test<\/th>\n",
       "    <\/tr>\n",
       "  <\/thead>\n",
       "  <tbody>\n",
       "    <tr>\n",
       "      <th>0<\/th>\n",
       "      <td>0.215042<\/td>\n",
       "    <\/tr>\n",
       "    <tr>\n",
       "      <th>1<\/th>\n",
       "      <td>0.221056<\/td>\n",
       "    <\/tr>\n",
       "    <tr>\n",
       "      <th>2<\/th>\n",
       "      <td>0.252629<\/td>\n",
       "    <\/tr>\n",
       "    <tr>\n",
       "      <th>3<\/th>\n",
       "      <td>0.345846<\/td>\n",
       "    <\/tr>\n",
       "    <tr>\n",
       "      <th>4<\/th>\n",
       "      <td>0.390951<\/td>\n",
       "    <\/tr>\n",
       "    <tr>\n",
       "      <th>...<\/th>\n",
       "      <td>...<\/td>\n",
       "    <\/tr>\n",
       "    <tr>\n",
       "      <th>304<\/th>\n",
       "      <td>0.477219<\/td>\n",
       "    <\/tr>\n",
       "    <tr>\n",
       "      <th>305<\/th>\n",
       "      <td>0.406540<\/td>\n",
       "    <\/tr>\n",
       "    <tr>\n",
       "      <th>306<\/th>\n",
       "      <td>0.315640<\/td>\n",
       "    <\/tr>\n",
       "    <tr>\n",
       "      <th>307<\/th>\n",
       "      <td>0.341815<\/td>\n",
       "    <\/tr>\n",
       "    <tr>\n",
       "      <th>308<\/th>\n",
       "      <td>0.376789<\/td>\n",
       "    <\/tr>\n",
       "  <\/tbody>\n",
       "<\/table>\n",
       "<p>309 rows × 1 columns<\/p>\n",
       "<\/div>"
      ]
     },
     "metadata":{
      
     },
     "output_type":"display_data"
    }
   ],
   "metadata":{
    "datalore":{
     "type":"CODE",
     "hide_input_from_viewers":false,
     "hide_output_from_viewers":false
    }
   }
  },
  {
   "cell_type":"code",
   "source":[
    "#ELASTIC"
   ],
   "execution_count":null,
   "outputs":[
    
   ],
   "metadata":{
    "datalore":{
     "type":"CODE",
     "hide_input_from_viewers":false,
     "hide_output_from_viewers":false
    }
   }
  },
  {
   "cell_type":"code",
   "source":[
    "from sklearn.linear_model import ElasticNet\n",
    "\n",
    "reg3 = ElasticNet(alpha=0.00001).fit(x_train, y_train)\n",
    "elastic_coef = reg3.coef_\n",
    "\n",
    "elastic_bias = reg3.intercept_\n",
    "print(reg3.intercept_)\n",
    "elastic_coef"
   ],
   "execution_count":23,
   "outputs":[
    {
     "name":"stdout",
     "text":[
      "0.13896223432596982\n"
     ],
     "output_type":"stream"
    },
    {
     "data":{
      "text\/html":[
       
      ]
     },
     "metadata":{
      
     },
     "output_type":"display_data"
    }
   ],
   "metadata":{
    "datalore":{
     "type":"CODE",
     "hide_input_from_viewers":false,
     "hide_output_from_viewers":false
    }
   }
  },
  {
   "cell_type":"code",
   "source":[
    "y_elastic_train = compare(elastic_coef, x_train, elastic_bias)\n",
    "\n",
    "plt.plot(np.arange(len(y_train)), y_train)\n",
    "plt.plot(np.arange(len(y_train)), y_elastic_train)\n",
    "plt.title('TRAIN')\n",
    "plt.show()\n",
    "\n",
    "print('R2 = ', r2_score(y_train, y_elastic_train), '; SMSE = ', mean_squared_error(y_train, y_elastic_train, squared=False),\n",
    "      '; MAE = ', mean_absolute_error(y_train, y_elastic_train))\n",
    "\n",
    "pd.DataFrame(y_elastic_train, columns=['y_elastic_train'])"
   ],
   "execution_count":24,
   "outputs":[
    {
     "name":"stdout",
     "text":[
      "R2 =  0.601096557560546 ; SMSE =  0.13941227036163595 ; MAE =  0.11217983283621913\n"
     ],
     "output_type":"stream"
    },
    {
     "data":{
      "image\/png":"[encoded data removed]",
      "text\/html":[
       "<div>\n",
       "<style scoped>\n",
       "    .dataframe tbody tr th:only-of-type {\n",
       "        vertical-align: middle;\n",
       "    }\n",
       "\n",
       "    .dataframe tbody tr th {\n",
       "        vertical-align: top;\n",
       "    }\n",
       "\n",
       "    .dataframe thead th {\n",
       "        text-align: right;\n",
       "    }\n",
       "<\/style>\n",
       "<table border=\"1\" class=\"dataframe\">\n",
       "  <thead>\n",
       "    <tr style=\"text-align: right;\">\n",
       "      <th><\/th>\n",
       "      <th>y_elastic_train<\/th>\n",
       "    <\/tr>\n",
       "  <\/thead>\n",
       "  <tbody>\n",
       "    <tr>\n",
       "      <th>0<\/th>\n",
       "      <td>0.622029<\/td>\n",
       "    <\/tr>\n",
       "    <tr>\n",
       "      <th>1<\/th>\n",
       "      <td>0.622029<\/td>\n",
       "    <\/tr>\n",
       "    <tr>\n",
       "      <th>2<\/th>\n",
       "      <td>0.692197<\/td>\n",
       "    <\/tr>\n",
       "    <tr>\n",
       "      <th>3<\/th>\n",
       "      <td>0.836278<\/td>\n",
       "    <\/tr>\n",
       "    <tr>\n",
       "      <th>4<\/th>\n",
       "      <td>0.748910<\/td>\n",
       "    <\/tr>\n",
       "    <tr>\n",
       "      <th>...<\/th>\n",
       "      <td>...<\/td>\n",
       "    <\/tr>\n",
       "    <tr>\n",
       "      <th>716<\/th>\n",
       "      <td>0.152468<\/td>\n",
       "    <\/tr>\n",
       "    <tr>\n",
       "      <th>717<\/th>\n",
       "      <td>0.185978<\/td>\n",
       "    <\/tr>\n",
       "    <tr>\n",
       "      <th>718<\/th>\n",
       "      <td>0.141172<\/td>\n",
       "    <\/tr>\n",
       "    <tr>\n",
       "      <th>719<\/th>\n",
       "      <td>0.387179<\/td>\n",
       "    <\/tr>\n",
       "    <tr>\n",
       "      <th>720<\/th>\n",
       "      <td>0.486970<\/td>\n",
       "    <\/tr>\n",
       "  <\/tbody>\n",
       "<\/table>\n",
       "<p>721 rows × 1 columns<\/p>\n",
       "<\/div>"
      ]
     },
     "metadata":{
      "image\/png":{
       
      }
     },
     "output_type":"display_data"
    }
   ],
   "metadata":{
    "datalore":{
     "type":"CODE",
     "hide_input_from_viewers":false,
     "hide_output_from_viewers":false
    }
   }
  },
  {
   "cell_type":"code",
   "source":[
    "y_elastic_test = reg3.predict(x_test)\n",
    "\n",
    "plt.plot(np.arange(len(y_test)), y_test)\n",
    "plt.plot(np.arange(len(y_test)), y_elastic_test)\n",
    "plt.title('TEST')\n",
    "plt.show()\n",
    "\n",
    "print('R2 = ', r2_score(y_test, y_elastic_test), '; RMSE = ',mean_squared_error(y_test, y_elastic_test, squared=False),\n",
    "      '; MAE = ',mean_absolute_error(y_test, y_elastic_test))\n",
    "\n",
    "pd.DataFrame(y_elastic_test, columns=['y_elastic_test'])"
   ],
   "execution_count":26,
   "outputs":[
    {
     "name":"stdout",
     "text":[
      "R2 =  0.6034771738523814 ; RMSE =  0.10543739201671619 ; MAE =  0.0827550426819337\n"
     ],
     "output_type":"stream"
    },
    {
     "data":{
      "image\/png":"[encoded data removed]",
      "text\/html":[
       "<div>\n",
       "<style scoped>\n",
       "    .dataframe tbody tr th:only-of-type {\n",
       "        vertical-align: middle;\n",
       "    }\n",
       "\n",
       "    .dataframe tbody tr th {\n",
       "        vertical-align: top;\n",
       "    }\n",
       "\n",
       "    .dataframe thead th {\n",
       "        text-align: right;\n",
       "    }\n",
       "<\/style>\n",
       "<table border=\"1\" class=\"dataframe\">\n",
       "  <thead>\n",
       "    <tr style=\"text-align: right;\">\n",
       "      <th><\/th>\n",
       "      <th>y_elastic_test<\/th>\n",
       "    <\/tr>\n",
       "  <\/thead>\n",
       "  <tbody>\n",
       "    <tr>\n",
       "      <th>0<\/th>\n",
       "      <td>0.212688<\/td>\n",
       "    <\/tr>\n",
       "    <tr>\n",
       "      <th>1<\/th>\n",
       "      <td>0.218754<\/td>\n",
       "    <\/tr>\n",
       "    <tr>\n",
       "      <th>2<\/th>\n",
       "      <td>0.250604<\/td>\n",
       "    <\/tr>\n",
       "    <tr>\n",
       "      <th>3<\/th>\n",
       "      <td>0.344636<\/td>\n",
       "    <\/tr>\n",
       "    <tr>\n",
       "      <th>4<\/th>\n",
       "      <td>0.390135<\/td>\n",
       "    <\/tr>\n",
       "    <tr>\n",
       "      <th>...<\/th>\n",
       "      <td>...<\/td>\n",
       "    <\/tr>\n",
       "    <tr>\n",
       "      <th>304<\/th>\n",
       "      <td>0.477875<\/td>\n",
       "    <\/tr>\n",
       "    <tr>\n",
       "      <th>305<\/th>\n",
       "      <td>0.405502<\/td>\n",
       "    <\/tr>\n",
       "    <tr>\n",
       "      <th>306<\/th>\n",
       "      <td>0.315305<\/td>\n",
       "    <\/tr>\n",
       "    <tr>\n",
       "      <th>307<\/th>\n",
       "      <td>0.340173<\/td>\n",
       "    <\/tr>\n",
       "    <tr>\n",
       "      <th>308<\/th>\n",
       "      <td>0.375826<\/td>\n",
       "    <\/tr>\n",
       "  <\/tbody>\n",
       "<\/table>\n",
       "<p>309 rows × 1 columns<\/p>\n",
       "<\/div>"
      ]
     },
     "metadata":{
      "image\/png":{
       
      }
     },
     "output_type":"display_data"
    }
   ],
   "metadata":{
    "datalore":{
     "type":"CODE",
     "hide_input_from_viewers":false,
     "hide_output_from_viewers":false
    }
   }
  },
  {
   "cell_type":"code",
   "source":[
    "import pandas as pd\n",
    "import numpy as np\n",
    "from sklearn import datasets, linear_model\n",
    "from sklearn.linear_model import LinearRegression\n",
    "import statsmodels.api as sm\n",
    "from scipy import stats\n",
    "\n",
    "X2 = sm.add_constant(x)\n",
    "est = sm.OLS(y, X2)\n",
    "est2 = est.fit()\n",
    "print(est2.summary())\n"
   ],
   "execution_count":6,
   "outputs":[
    {
     "name":"stdout",
     "text":[
      "                            OLS Regression Results                            \n",
      "==============================================================================\n",
      "Dep. Variable:                      y   R-squared:                       0.614\n",
      "Model:                            OLS   Adj. R-squared:                  0.612\n",
      "Method:                 Least Squares   F-statistic:                     271.2\n",
      "Date:                Fri, 22 Apr 2022   Prob (F-statistic):          1.78e-207\n",
      "Time:                        16:11:27   Log-Likelihood:                 645.90\n",
      "No. Observations:                1030   AIC:                            -1278.\n",
      "Df Residuals:                    1023   BIC:                            -1243.\n",
      "Df Model:                           6                                         \n",
      "Covariance Type:            nonrobust                                         \n",
      "==============================================================================\n",
      "                 coef    std err          t      P>|t|      [0.025      0.975]\n",
      "------------------------------------------------------------------------------\n",
      "const          0.1369      0.023      5.984      0.000       0.092       0.182\n",
      "component1     0.5753      0.023     24.821      0.000       0.530       0.621\n",
      "component2     0.3873      0.022     17.386      0.000       0.344       0.431\n",
      "component3     0.1713      0.019      8.881      0.000       0.133       0.209\n",
      "component4    -0.3406      0.033    -10.332      0.000      -0.405      -0.276\n",
      "component5     0.0959      0.034      2.826      0.005       0.029       0.162\n",
      "age            0.5147      0.025     20.987      0.000       0.467       0.563\n",
      "==============================================================================\n",
      "Omnibus:                        5.233   Durbin-Watson:                   1.286\n",
      "Prob(Omnibus):                  0.073   Jarque-Bera (JB):                5.193\n",
      "Skew:                          -0.174   Prob(JB):                       0.0745\n",
      "Kurtosis:                       3.019   Cond. No.                         14.4\n",
      "==============================================================================\n",
      "\n",
      "Notes:\n",
      "[1] Standard Errors assume that the covariance matrix of the errors is correctly specified.\n"
     ],
     "output_type":"stream"
    }
   ],
   "metadata":{
    "datalore":{
     "type":"CODE",
     "hide_input_from_viewers":false,
     "hide_output_from_viewers":false
    }
   }
  },
  {
   "cell_type":"code",
   "source":[
    "def compare(coef,df, b):\n",
    "    y_pred = []\n",
    "    for i in range(len(df)):\n",
    "        y_pred.append(coef[0] * df['component1'][i] + coef[1] * df['component2'][i] +\n",
    "                      coef[2] * df['component3'][i] + coef[3] * df['component4'][i] +\n",
    "                      coef[4] * df['component5'][i] + coef[5] * df['age'][i] + b)\n",
    "    return y_pred"
   ],
   "execution_count":14,
   "outputs":[
    
   ],
   "metadata":{
    "datalore":{
     "type":"CODE",
     "hide_input_from_viewers":false,
     "hide_output_from_viewers":false
    }
   }
  },
  {
   "cell_type":"code",
   "source":[
    
   ],
   "execution_count":null,
   "outputs":[
    
   ],
   "metadata":{
    "datalore":{
     "type":"CODE",
     "hide_input_from_viewers":false,
     "hide_output_from_viewers":false
    }
   }
  },
  {
   "cell_type":"code",
   "source":[
    
   ],
   "execution_count":null,
   "outputs":[
    
   ],
   "metadata":{
    "datalore":{
     "type":"CODE",
     "hide_input_from_viewers":false,
     "hide_output_from_viewers":false
    }
   }
  },
  {
   "cell_type":"code",
   "source":[
    
   ],
   "execution_count":null,
   "outputs":[
    
   ],
   "metadata":{
    "datalore":{
     "type":"CODE",
     "hide_input_from_viewers":false,
     "hide_output_from_viewers":false
    }
   }
  },
  {
   "cell_type":"markdown",
   "source":[
    "# Sheet 3 Duplicate"
   ],
   "attachments":{
    
   },
   "metadata":{
    "datalore":{
     "type":"MD",
     "hide_input_from_viewers":false,
     "hide_output_from_viewers":false,
     "sheet_delimiter":true
    }
   }
  },
  {
   "cell_type":"code",
   "source":[
    "import numpy as np\n",
    "import pandas as pd\n",
    "import matplotlib.pyplot as plt\n",
    "from sklearn.linear_model import LinearRegression\n",
    "from sklearn.metrics import r2_score"
   ],
   "execution_count":null,
   "outputs":[
    
   ],
   "metadata":{
    "datalore":{
     "type":"CODE",
     "hide_input_from_viewers":false,
     "hide_output_from_viewers":false
    }
   }
  },
  {
   "cell_type":"code",
   "source":[
    "# read data\n",
    "path_to_datafile = \"Concrete_Data.xls\"\n",
    "df = pd.read_excel(path_to_datafile)\n",
    "df.rename(columns={\"Cement (component 1)(kg in a m^3 mixture)\": \"component1\",\n",
    "                   \"Blast Furnace Slag (component 2)(kg in a m^3 mixture)\": \"component2\",\n",
    "                   \"Fly Ash (component 3)(kg in a m^3 mixture)\": \"component3\",\n",
    "                   \"Water  (component 4)(kg in a m^3 mixture)\": \"component4\",\n",
    "                   \"Superplasticizer (component 5)(kg in a m^3 mixture)\": \"component5\",\n",
    "                   \"Coarse Aggregate  (component 6)(kg in a m^3 mixture)\": \"component6\",\n",
    "                   \"Fine Aggregate (component 7)(kg in a m^3 mixture)\": \"component7\",\n",
    "                   \"Age (day)\": \"age\",\n",
    "                   \"Concrete compressive strength(MPa, megapascals) \": \"y\", }, inplace=True)\n",
    "\n",
    "df.head()"
   ],
   "execution_count":null,
   "outputs":[
    
   ],
   "metadata":{
    "datalore":{
     "type":"CODE",
     "hide_input_from_viewers":false,
     "hide_output_from_viewers":false
    }
   }
  },
  {
   "cell_type":"code",
   "source":[
    "# normalization\n",
    "df_norm = df.copy(deep=True)\n",
    "df_norm[\"component1\"] = [(x - min(df_norm[\"component1\"])) \/ (max(df_norm[\"component1\"]) - min(df_norm[\"component1\"]))\n",
    "                         for x in df_norm[\"component1\"]]\n",
    "df_norm[\"component2\"] = [(x - min(df_norm[\"component2\"])) \/ (max(df_norm[\"component2\"]) - min(df_norm[\"component2\"]))\n",
    "                         for x in df_norm[\"component2\"]]\n",
    "\n",
    "df_norm[\"component3\"] = [(x - min(df_norm[\"component3\"])) \/ (max(df_norm[\"component3\"]) - min(df_norm[\"component3\"]))\n",
    "                         for x in df_norm[\"component3\"]]\n",
    "\n",
    "df_norm[\"component4\"] = [(x - min(df_norm[\"component4\"])) \/ (max(df_norm[\"component4\"]) - min(df_norm[\"component4\"]))\n",
    "                         for x in df_norm[\"component4\"]]\n",
    "\n",
    "df_norm[\"component5\"] = [(x - min(df_norm[\"component5\"])) \/ (max(df_norm[\"component5\"]) - min(df_norm[\"component5\"]))\n",
    "                         for x in df_norm[\"component5\"]]\n",
    "\n",
    "df_norm[\"component6\"] = [(x - min(df_norm[\"component6\"])) \/ (max(df_norm[\"component6\"]) - min(df_norm[\"component6\"]))\n",
    "                         for x in df_norm[\"component6\"]]\n",
    "\n",
    "df_norm[\"component7\"] = [(x - min(df_norm[\"component7\"])) \/ (max(df_norm[\"component7\"]) - min(df_norm[\"component7\"]))\n",
    "                         for x in df_norm[\"component7\"]]\n",
    "\n",
    "df_norm[\"age\"] = [(x - min(df_norm[\"age\"])) \/ (max(df_norm[\"age\"]) - min(df_norm[\"age\"]))\n",
    "                  for x in df_norm[\"age\"]]\n",
    "\n",
    "df_norm[\"y\"] = [(x - min(df_norm[\"y\"])) \/ (max(df_norm[\"y\"]) - min(df_norm[\"y\"]))\n",
    "                  for x in df_norm[\"y\"]]"
   ],
   "execution_count":null,
   "outputs":[
    
   ],
   "metadata":{
    "datalore":{
     "type":"CODE",
     "hide_input_from_viewers":false,
     "hide_output_from_viewers":false
    }
   }
  },
  {
   "cell_type":"code",
   "source":[
    "x = df_norm.copy(deep=False)\n",
    "y = df_norm['y']\n",
    "del x['component6']\n",
    "del x['component7']\n",
    "del x['y']\n",
    "\n",
    "x"
   ],
   "execution_count":null,
   "outputs":[
    
   ],
   "metadata":{
    "datalore":{
     "type":"CODE",
     "hide_input_from_viewers":false,
     "hide_output_from_viewers":false
    }
   }
  },
  {
   "cell_type":"code",
   "source":[
    "y"
   ],
   "execution_count":null,
   "outputs":[
    
   ],
   "metadata":{
    "datalore":{
     "type":"CODE",
     "hide_input_from_viewers":false,
     "hide_output_from_viewers":false
    }
   }
  },
  {
   "cell_type":"code",
   "source":[
    "x_train = x[:721]\n",
    "x_test = x[721:]\n",
    "y_train = y[:721]\n",
    "y_test = y[721:]\n",
    "y_test"
   ],
   "execution_count":null,
   "outputs":[
    
   ],
   "metadata":{
    "datalore":{
     "type":"CODE",
     "hide_input_from_viewers":false,
     "hide_output_from_viewers":false
    }
   }
  },
  {
   "cell_type":"code",
   "source":[
    "reg = LinearRegression().fit(x_train, y_train)\n",
    "ols_coef = reg.coef_\n",
    "ols_coef\n",
    "ols_bias = reg.intercept_\n",
    "# print(reg.intercept_)\n",
    "ols_coef"
   ],
   "execution_count":null,
   "outputs":[
    
   ],
   "metadata":{
    "datalore":{
     "type":"CODE",
     "hide_input_from_viewers":false,
     "hide_output_from_viewers":false
    }
   }
  },
  {
   "cell_type":"code",
   "source":[
    "from sklearn.metrics import mean_squared_error, mean_absolute_error\n",
    "\n",
    "y_ols_train = compare(ols_coef, x_train, ols_bias)\n",
    "\n",
    "plt.plot(np.arange(len(y_train)), y_train)\n",
    "plt.plot(np.arange(len(y_train)), y_ols_train)\n",
    "plt.title('TRAIN')\n",
    "plt.show()\n",
    "\n",
    "print('R2 = ', r2_score(y_train, y_ols_train), '; SMSE = ', mean_squared_error(y_train, y_ols_train, squared=False),\n",
    "      '; MAE = ', mean_absolute_error(y_train, y_ols_train))\n",
    "\n",
    "pd.DataFrame(y_ols_train, columns=['y_ols_train'])"
   ],
   "execution_count":null,
   "outputs":[
    
   ],
   "metadata":{
    "datalore":{
     "type":"CODE",
     "hide_input_from_viewers":false,
     "hide_output_from_viewers":false
    }
   }
  },
  {
   "cell_type":"code",
   "source":[
    "\n",
    "y_ols_test = reg.predict(x_test)\n",
    "\n",
    "plt.plot(np.arange(len(y_ols_test)), y_test)\n",
    "plt.plot(np.arange(len(y_ols_test)), y_ols_test)\n",
    "plt.title('TEST')\n",
    "plt.show()\n",
    "\n",
    "print('R2 = ', r2_score(y_test, y_ols_test), '; SMSE = ',mean_squared_error(y_test, y_ols_test, squared=False),\n",
    "      '; MAE = ',mean_absolute_error(y_test, y_ols_test))\n",
    "\n",
    "pd.DataFrame(y_ols_train, columns=['y_ols_test'])"
   ],
   "execution_count":null,
   "outputs":[
    
   ],
   "metadata":{
    "datalore":{
     "type":"CODE",
     "hide_input_from_viewers":false,
     "hide_output_from_viewers":false
    }
   }
  },
  {
   "cell_type":"code",
   "source":[
    
   ],
   "execution_count":null,
   "outputs":[
    
   ],
   "metadata":{
    "datalore":{
     "type":"CODE",
     "hide_input_from_viewers":false,
     "hide_output_from_viewers":false
    }
   }
  },
  {
   "cell_type":"code",
   "source":[
    
   ],
   "execution_count":null,
   "outputs":[
    
   ],
   "metadata":{
    "datalore":{
     "type":"CODE",
     "hide_input_from_viewers":false,
     "hide_output_from_viewers":false
    }
   }
  },
  {
   "cell_type":"code",
   "source":[
    
   ],
   "execution_count":null,
   "outputs":[
    
   ],
   "metadata":{
    "datalore":{
     "type":"CODE",
     "hide_input_from_viewers":false,
     "hide_output_from_viewers":false
    }
   }
  },
  {
   "cell_type":"code",
   "source":[
    "def compare(coef,df, b):\n",
    "    y_pred = []\n",
    "    for i in range(len(df)):\n",
    "        y_pred.append(coef[0] * df['component1'][i] + coef[1] * df['component2'][i] +\n",
    "                      coef[2] * df['component3'][i] + coef[3] * df['component4'][i] +\n",
    "                      coef[4] * df['component5'][i] + coef[5] * df['age'][i] + b)\n",
    "    return y_pred"
   ],
   "execution_count":null,
   "outputs":[
    
   ],
   "metadata":{
    "datalore":{
     "type":"CODE",
     "hide_input_from_viewers":false,
     "hide_output_from_viewers":false
    }
   }
  },
  {
   "cell_type":"code",
   "source":[
    
   ],
   "execution_count":null,
   "outputs":[
    
   ],
   "metadata":{
    "datalore":{
     "type":"CODE",
     "hide_input_from_viewers":false,
     "hide_output_from_viewers":false
    }
   }
  }
 ],
 "metadata":{
  "datalore":{
   "version":1,
   "computation_mode":"JUPYTER",
   "package_manager":"pip",
   "base_environment":"default",
   "packages":[
    
   ]
  }
 },
 "nbformat":4,
 "nbformat_minor":4
}